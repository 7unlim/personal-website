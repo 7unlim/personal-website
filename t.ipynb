{
 "cells": [
  {
   "cell_type": "markdown",
   "metadata": {},
   "source": [
    "Jun;Seo,lim?EunSeo\"Lim,Sungeun!Jang\n",
    "\n",
    "\n",
    "\n",
    "\n",
    "Jun Seo Lim:Sungeun:Jang:123:iNFO=y:CPUID=3:Tag=6:\n",
    "Jun Seo Lim:Sungeun:Jang:123:iNFO=y:CPUID=1:Tag=6:\n",
    "Jun Seo Lim:Sungeun:Jang:123:iNFO=y:CPUID=4:Tag=6:\n",
    "Jun Seo Lim:Sungeun:Jang:123:iNFO=y:CPUId=0:Tag=6:\n",
    "Jun Seo Lim:Sungeun:Jang:123:iNFO=y:CPUI=3:Tag=6:\n",
    "Jun Seo Lim:Sungeun:Jang:123:iNFO=y:CPUID=5:Tag=6:\n",
    "Jun Seo Lim:Sungeun:Jang:123:iNFO=y:CPUID=7:Tag=6:\n",
    "Jun Seo Lim:Sungeun:Jang:123:iNFO=y:CPUID=6:Tag=6:\n",
    "Jun Seo Lim:Sungeun:Jang:123:iNFO=y:CPUID=2:Tag=6:\n",
    "Jun Seo Lim:Sungeun:Jang:123:iNFO=y:CPUID=1:Tag=6:\n",
    "\n"
   ]
  }
 ],
 "metadata": {
  "language_info": {
   "name": "python"
  },
  "orig_nbformat": 4
 },
 "nbformat": 4,
 "nbformat_minor": 2
}
